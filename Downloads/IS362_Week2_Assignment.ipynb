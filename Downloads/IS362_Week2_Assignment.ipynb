{
 "cells": [
  {
   "cell_type": "markdown",
   "metadata": {},
   "source": [
    "# Python Map Function"
   ]
  },
  {
   "cell_type": "markdown",
   "metadata": {},
   "source": [
    "## What is map()?\n",
    "\n",
    "A map funtion returns an iterator that applies function to every item of iterable, yielding the results.  If additional iterable arguments are passed, function must take than many arguments and is applied to the items from all iterables in parallel.  With multiple iterables, the iterator stops when the shorteest iterable is exhausted."
   ]
  },
  {
   "cell_type": "markdown",
   "metadata": {},
   "source": [
    "## Syntax for map()\n",
    "\n",
    "map(function, iterable, ...)"
   ]
  },
  {
   "cell_type": "markdown",
   "metadata": {},
   "source": [
    "## Map() Parameters and Return Value\n",
    "\n",
    "__function:__ map() passes esach item of the iterable to this function\n",
    "\n",
    "__iterable:__ iterable which is to be mapped. Can pass more than one iterable to the map() function.\n",
    "\n",
    "The return value from map() which is a (map object) then can be passed to functions like list(), set(), and so on."
   ]
  },
  {
   "cell_type": "markdown",
   "metadata": {},
   "source": [
    "## Usage examples:"
   ]
  },
  {
   "cell_type": "code",
   "execution_count": 1,
   "metadata": {},
   "outputs": [
    {
     "name": "stdout",
     "output_type": "stream",
     "text": [
      "<map object at 0x000001F6F24E14E0>\n",
      "[1, 4, 9, 16]\n"
     ]
    }
   ],
   "source": [
    "def numsquared(n):\n",
    "    return n * n\n",
    "\n",
    "numbers = (1, 2, 3, 4)\n",
    "result = map(numsquared, numbers)\n",
    "print(result)\n",
    "\n",
    "# convert map object to a list\n",
    "squared_list = list(result)\n",
    "print(squared_list)"
   ]
  },
  {
   "cell_type": "markdown",
   "metadata": {},
   "source": [
    "__Lambda__ functions are commonly used while working with map() functions.  A lambda function is a function without a name."
   ]
  },
  {
   "cell_type": "code",
   "execution_count": 4,
   "metadata": {},
   "outputs": [
    {
     "name": "stdout",
     "output_type": "stream",
     "text": [
      "<map object at 0x000001F6F25AA320>\n",
      "[1, 4, 9, 16]\n"
     ]
    }
   ],
   "source": [
    "# map() using lambda example\n",
    "\n",
    "numbers = (1, 2, 3, 4)\n",
    "result = map(lambda x: x*x, numbers)\n",
    "print(result)\n",
    "\n",
    "# convert map object to a list\n",
    "squared_list = list(result)\n",
    "print(squared_list)"
   ]
  },
  {
   "cell_type": "markdown",
   "metadata": {},
   "source": [
    "You can also pass multiple iterators to map() using lambda."
   ]
  },
  {
   "cell_type": "code",
   "execution_count": 5,
   "metadata": {},
   "outputs": [
    {
     "name": "stdout",
     "output_type": "stream",
     "text": [
      "[4, 10, 18]\n"
     ]
    }
   ],
   "source": [
    "# multiple iterators to map()\n",
    "\n",
    "num1 = [1, 2, 3]\n",
    "num2 = [4, 5, 6]\n",
    "\n",
    "result = map(lambda n1, n2: n1*n2, num1, num2)\n",
    "result_list = list(result)\n",
    "print(result_list)"
   ]
  },
  {
   "cell_type": "code",
   "execution_count": null,
   "metadata": {
    "collapsed": true
   },
   "outputs": [],
   "source": []
  }
 ],
 "metadata": {
  "kernelspec": {
   "display_name": "Python 3",
   "language": "python",
   "name": "python3"
  },
  "language_info": {
   "codemirror_mode": {
    "name": "ipython",
    "version": 3
   },
   "file_extension": ".py",
   "mimetype": "text/x-python",
   "name": "python",
   "nbconvert_exporter": "python",
   "pygments_lexer": "ipython3",
   "version": "3.6.3"
  }
 },
 "nbformat": 4,
 "nbformat_minor": 2
}
